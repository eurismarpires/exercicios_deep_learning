{
 "cells": [
  {
   "cell_type": "markdown",
   "metadata": {},
   "source": [
    "### importação das bibliotecas"
   ]
  },
  {
   "cell_type": "code",
   "execution_count": 1,
   "metadata": {
    "collapsed": true
   },
   "outputs": [],
   "source": [
    "#  Compatibility imports\n",
    "from scipy.io import wavfile\n",
    "from __future__ import absolute_import\n",
    "from __future__ import division\n",
    "from __future__ import print_function\n",
    "\n",
    "import time\n",
    "\n",
    "import tensorflow as tf\n",
    "import scipy.io.wavfile as wav\n",
    "import numpy as np\n",
    "\n",
    "from six.moves import xrange as range\n",
    "\n",
    "try:\n",
    "    from tensorflow.python.ops import ctc_ops\n",
    "except ImportError:\n",
    "    from tensorflow.contrib.ctc import ctc_ops\n",
    "\n",
    "try:\n",
    "    from python_speech_features import mfcc\n",
    "except ImportError:\n",
    "    print(\"Failed to import python_speech_features.\\n Try pip install python_speech_features.\")\n",
    "    raise ImportError\n",
    "\n",
    "from utils import maybe_download as maybe_download\n",
    "from utils import sparse_tuple_from as sparse_tuple_from"
   ]
  },
  {
   "cell_type": "code",
   "execution_count": 2,
   "metadata": {
    "collapsed": true
   },
   "outputs": [],
   "source": [
    "# Constants\n",
    "SPACE_TOKEN = '<space>'\n",
    "SPACE_INDEX = 0\n",
    "FIRST_INDEX = ord('a') - 1  # 0 is reserved to space"
   ]
  },
  {
   "cell_type": "code",
   "execution_count": 3,
   "metadata": {
    "collapsed": true
   },
   "outputs": [],
   "source": [
    "# Some configs\n",
    "num_features = 13\n",
    "# Accounting the 0th indice +  space + blank label = 28 characters\n",
    "num_classes = ord('z') - ord('a') + 1 + 1 + 1\n",
    "\n",
    "# Hyper-parameters\n",
    "num_epochs = 50\n",
    "num_hidden = 50\n",
    "num_layers = 1\n",
    "batch_size = 1\n",
    "initial_learning_rate = 1e-2\n",
    "momentum = 0.9\n",
    "\n",
    "num_examples = 1\n",
    "num_batches_per_epoch = int(num_examples/batch_size)"
   ]
  },
  {
   "cell_type": "code",
   "execution_count": 4,
   "metadata": {
    "collapsed": true
   },
   "outputs": [],
   "source": [
    "# Loading the data\n",
    "\n",
    "#audio_filename = maybe_download('LDC93S1.wav', 93638)\n",
    "#target_filename = maybe_download('LDC93S1.txt', 62)\n",
    "#adriano-20101204-fwl/wav/021.wav\n",
    "audio_filename ='adriano-20101204-fwl//wav//021.wav'\n",
    "target_filename = 'adriano-20101204-fwl//etc//prompts-original'\n",
    "\n",
    "fs, audio = wav.read(audio_filename)\n",
    "\n",
    "\n",
    "\n",
    "#fs, audio = wavfile.read('LDC93S1.wav')"
   ]
  },
  {
   "cell_type": "code",
   "execution_count": 5,
   "metadata": {
    "collapsed": false
   },
   "outputs": [
    {
     "data": {
      "text/plain": [
       "(74000,)"
      ]
     },
     "execution_count": 5,
     "metadata": {},
     "output_type": "execute_result"
    }
   ],
   "source": [
    "audio.shape"
   ]
  },
  {
   "cell_type": "code",
   "execution_count": 6,
   "metadata": {
    "collapsed": false
   },
   "outputs": [
    {
     "data": {
      "text/plain": [
       "array([258, 457, 425, ..., 679, 747, 884], dtype=int16)"
      ]
     },
     "execution_count": 6,
     "metadata": {},
     "output_type": "execute_result"
    }
   ],
   "source": [
    "audio"
   ]
  },
  {
   "cell_type": "code",
   "execution_count": 7,
   "metadata": {
    "collapsed": false
   },
   "outputs": [
    {
     "data": {
      "text/plain": [
       "array([258, 457, 425, 502], dtype=int16)"
      ]
     },
     "execution_count": 7,
     "metadata": {},
     "output_type": "execute_result"
    }
   ],
   "source": [
    "audio[:4]"
   ]
  },
  {
   "cell_type": "code",
   "execution_count": 8,
   "metadata": {
    "collapsed": true
   },
   "outputs": [],
   "source": [
    "from pylab import*"
   ]
  },
  {
   "cell_type": "code",
   "execution_count": 9,
   "metadata": {
    "collapsed": true
   },
   "outputs": [],
   "source": [
    "timeArray = arange(0, 74000, 1)"
   ]
  },
  {
   "cell_type": "code",
   "execution_count": 10,
   "metadata": {
    "collapsed": false
   },
   "outputs": [
    {
     "data": {
      "text/plain": [
       "<matplotlib.text.Text at 0x7f4b929594a8>"
      ]
     },
     "execution_count": 10,
     "metadata": {},
     "output_type": "execute_result"
    }
   ],
   "source": [
    "plot(timeArray, audio, color='r')\n",
    "ylabel('Amplitude')\n",
    "xlabel('Time (ms)')"
   ]
  },
  {
   "cell_type": "code",
   "execution_count": 11,
   "metadata": {
    "collapsed": false
   },
   "outputs": [
    {
     "data": {
      "image/png": "[encoded data removed]",
      "text/plain": [
       "<matplotlib.figure.Figure at 0x7f4b92c0dda0>"
      ]
     },
     "metadata": {},
     "output_type": "display_data"
    }
   ],
   "source": [
    "show()"
   ]
  },
  {
   "cell_type": "code",
   "execution_count": 12,
   "metadata": {
    "collapsed": true
   },
   "outputs": [],
   "source": [
    "inputs = mfcc(audio, samplerate=fs)"
   ]
  },
  {
   "cell_type": "code",
   "execution_count": 13,
   "metadata": {
    "collapsed": false
   },
   "outputs": [
    {
     "data": {
      "text/plain": [
       "(461, 13)"
      ]
     },
     "execution_count": 13,
     "metadata": {},
     "output_type": "execute_result"
    }
   ],
   "source": [
    "inputs.shape"
   ]
  },
  {
   "cell_type": "code",
   "execution_count": 14,
   "metadata": {
    "collapsed": false
   },
   "outputs": [
    {
     "data": {
      "text/plain": [
       "array([[ 13.5677855 , -10.35944296,  -3.32243799,   1.74942585,\n",
       "          9.37541404,   8.25916142,  16.06967498,   9.71300626,\n",
       "          8.91874043,   3.43548826,  15.98592527,   8.89104556,\n",
       "          5.20070816],\n",
       "       [ 13.54385676,  -8.65451275,  -2.88884716,   3.03170317,\n",
       "         10.89117167,   5.68015245,  14.70984483,  13.78639517,\n",
       "          9.60517981,   4.64967892,  12.69725504,   7.40978536,\n",
       "         -0.35664742],\n",
       "       [ 13.43789009,  -8.94075587,  -0.49697284,   5.45430046,\n",
       "         10.81038286,   6.55344121,   9.95296012,  13.91151892,\n",
       "         12.63890824,   7.42629994,  13.10748698,   0.68925563,  -4.5541634 ],\n",
       "       [ 13.44943381,  -8.74811786,  -2.00330375,   5.90604791,\n",
       "          3.148903  ,   4.44346665,  11.44264258,  14.6638633 ,\n",
       "         12.37894282,  14.84742645,  12.25751655,   0.34551866,  -0.4389426 ],\n",
       "       [ 13.09801189,  -8.5498465 ,  -2.1715034 ,   6.1466381 ,\n",
       "          3.96968661,   7.14780724,  12.98605295,  11.84951285,\n",
       "         15.06672563,  11.48389882,   6.52866046,   0.80221525,\n",
       "          0.54579062]])"
      ]
     },
     "execution_count": 14,
     "metadata": {},
     "output_type": "execute_result"
    }
   ],
   "source": [
    "inputs[:5]"
   ]
  },
  {
   "cell_type": "code",
   "execution_count": 15,
   "metadata": {
    "collapsed": true
   },
   "outputs": [],
   "source": [
    "# Tranform in 3D array\n",
    "train_inputs = np.asarray(inputs[np.newaxis, :])"
   ]
  },
  {
   "cell_type": "code",
   "execution_count": 16,
   "metadata": {
    "collapsed": false
   },
   "outputs": [
    {
     "data": {
      "text/plain": [
       "(1, 461, 13)"
      ]
     },
     "execution_count": 16,
     "metadata": {},
     "output_type": "execute_result"
    }
   ],
   "source": [
    "train_inputs.shape"
   ]
  },
  {
   "cell_type": "code",
   "execution_count": 17,
   "metadata": {
    "collapsed": false
   },
   "outputs": [
    {
     "data": {
      "text/plain": [
       "array([[ 13.5677855 , -10.35944296,  -3.32243799, ...,  15.98592527,\n",
       "          8.89104556,   5.20070816],\n",
       "       [ 13.54385676,  -8.65451275,  -2.88884716, ...,  12.69725504,\n",
       "          7.40978536,  -0.35664742],\n",
       "       [ 13.43789009,  -8.94075587,  -0.49697284, ...,  13.10748698,\n",
       "          0.68925563,  -4.5541634 ],\n",
       "       ..., \n",
       "       [ 13.46185144, -12.16881341,  -1.49777472, ...,   2.48138486,\n",
       "          9.89881231,   8.59124548],\n",
       "       [ 13.38811425, -11.99425328,  -5.89408932, ...,   9.75816398,\n",
       "          6.07245495,   5.22508977],\n",
       "       [ 13.61148257, -11.38483976,  -7.24499278, ...,  12.3133294 ,\n",
       "          6.49154715,   5.84251601]])"
      ]
     },
     "execution_count": 17,
     "metadata": {},
     "output_type": "execute_result"
    }
   ],
   "source": [
    "train_inputs[0]"
   ]
  },
  {
   "cell_type": "code",
   "execution_count": 21,
   "metadata": {
    "collapsed": true
   },
   "outputs": [],
   "source": [
    "train_inputs = (train_inputs - np.mean(train_inputs))/np.std(train_inputs)"
   ]
  },
  {
   "cell_type": "code",
   "execution_count": 22,
   "metadata": {
    "collapsed": false
   },
   "outputs": [
    {
     "data": {
      "text/plain": [
       "(1, 461, 13)"
      ]
     },
     "execution_count": 22,
     "metadata": {},
     "output_type": "execute_result"
    }
   ],
   "source": [
    "train_inputs.shape"
   ]
  },
  {
   "cell_type": "code",
   "execution_count": 23,
   "metadata": {
    "collapsed": false
   },
   "outputs": [
    {
     "data": {
      "text/plain": [
       "array([[[ 0.80657345, -1.2255854 , -0.62792688, ...,  1.01194801,\n",
       "          0.40937415,  0.09595081],\n",
       "        [ 0.80454116, -1.0807843 , -0.59110166, ...,  0.73263859,\n",
       "          0.28356952, -0.37603989],\n",
       "        [ 0.79554133, -1.10509516, -0.38795784, ...,  0.76747992,\n",
       "         -0.2872105 , -0.73253832],\n",
       "        ..., \n",
       "        [ 0.79757638, -1.3792567 , -0.47295676, ..., -0.13500352,\n",
       "          0.49496459,  0.38391188],\n",
       "        [ 0.79131382, -1.36443116, -0.84633931, ...,  0.48301921,\n",
       "          0.16998897,  0.09802156],\n",
       "        [ 0.81028468, -1.31267318, -0.96107263, ...,  0.70003148,\n",
       "          0.20558281,  0.15046007]]])"
      ]
     },
     "execution_count": 23,
     "metadata": {},
     "output_type": "execute_result"
    }
   ],
   "source": [
    "train_inputs"
   ]
  },
  {
   "cell_type": "code",
   "execution_count": 24,
   "metadata": {
    "collapsed": true
   },
   "outputs": [],
   "source": [
    "train_seq_len = [train_inputs.shape[1]]"
   ]
  },
  {
   "cell_type": "code",
   "execution_count": 25,
   "metadata": {
    "collapsed": false
   },
   "outputs": [
    {
     "data": {
      "text/plain": [
       "[461]"
      ]
     },
     "execution_count": 25,
     "metadata": {},
     "output_type": "execute_result"
    }
   ],
   "source": [
    "train_seq_len"
   ]
  },
  {
   "cell_type": "code",
   "execution_count": 26,
   "metadata": {
    "collapsed": false
   },
   "outputs": [],
   "source": [
    "# Readings targets\n",
    "with open(target_filename, 'r') as f:\n",
    "    \n",
    "    #Only the last line is necessary\n",
    "    #line = f.readlines()[-1]  \n",
    "    line = f.readlines()[0]  "
   ]
  },
  {
   "cell_type": "code",
   "execution_count": 27,
   "metadata": {
    "collapsed": false
   },
   "outputs": [
    {
     "data": {
      "text/plain": [
       "'021 Aquela mulher é portuguesa. \\n'"
      ]
     },
     "execution_count": 27,
     "metadata": {},
     "output_type": "execute_result"
    }
   ],
   "source": [
    "    line"
   ]
  },
  {
   "cell_type": "code",
   "execution_count": 28,
   "metadata": {
    "collapsed": false
   },
   "outputs": [
    {
     "data": {
      "text/plain": [
       "str"
      ]
     },
     "execution_count": 28,
     "metadata": {},
     "output_type": "execute_result"
    }
   ],
   "source": [
    "type(line)"
   ]
  },
  {
   "cell_type": "code",
   "execution_count": 29,
   "metadata": {
    "collapsed": false
   },
   "outputs": [],
   "source": [
    "s = str(line)"
   ]
  },
  {
   "cell_type": "code",
   "execution_count": 30,
   "metadata": {
    "collapsed": false
   },
   "outputs": [
    {
     "data": {
      "text/plain": [
       "'021 Aquela mulher é portuguesa. '"
      ]
     },
     "execution_count": 30,
     "metadata": {},
     "output_type": "execute_result"
    }
   ],
   "source": [
    "s.strip('\\n')"
   ]
  },
  {
   "cell_type": "code",
   "execution_count": null,
   "metadata": {
    "collapsed": true
   },
   "outputs": [],
   "source": []
  },
  {
   "cell_type": "code",
   "execution_count": 31,
   "metadata": {
    "collapsed": false
   },
   "outputs": [],
   "source": [
    "#original = ' '.join(s.strip().lower().split(' ')[2:]).replace('.', '')\n",
    "original = 'Aquela mulher e portuguesa vou cumprir'.lower()"
   ]
  },
  {
   "cell_type": "code",
   "execution_count": 32,
   "metadata": {
    "collapsed": false
   },
   "outputs": [
    {
     "data": {
      "text/plain": [
       "'aquela mulher e portuguesa vou cumprir'"
      ]
     },
     "execution_count": 32,
     "metadata": {},
     "output_type": "execute_result"
    }
   ],
   "source": [
    "original"
   ]
  },
  {
   "cell_type": "code",
   "execution_count": 33,
   "metadata": {
    "collapsed": false
   },
   "outputs": [
    {
     "data": {
      "text/plain": [
       "'aquela mulher e portuguesa vou cumprir'"
      ]
     },
     "execution_count": 33,
     "metadata": {},
     "output_type": "execute_result"
    }
   ],
   "source": [
    "    original"
   ]
  },
  {
   "cell_type": "code",
   "execution_count": 34,
   "metadata": {
    "collapsed": true
   },
   "outputs": [],
   "source": [
    "    targets = original.replace(' ', '  ')\n",
    "    "
   ]
  },
  {
   "cell_type": "code",
   "execution_count": 35,
   "metadata": {
    "collapsed": false
   },
   "outputs": [
    {
     "data": {
      "text/plain": [
       "'aquela  mulher  e  portuguesa  vou  cumprir'"
      ]
     },
     "execution_count": 35,
     "metadata": {},
     "output_type": "execute_result"
    }
   ],
   "source": [
    "    targets"
   ]
  },
  {
   "cell_type": "code",
   "execution_count": 36,
   "metadata": {
    "collapsed": false
   },
   "outputs": [],
   "source": [
    "    targets = targets.split(' ')"
   ]
  },
  {
   "cell_type": "code",
   "execution_count": 37,
   "metadata": {
    "collapsed": false
   },
   "outputs": [
    {
     "data": {
      "text/plain": [
       "['aquela', '', 'mulher', '', 'e', '', 'portuguesa', '', 'vou', '', 'cumprir']"
      ]
     },
     "execution_count": 37,
     "metadata": {},
     "output_type": "execute_result"
    }
   ],
   "source": [
    "    targets"
   ]
  },
  {
   "cell_type": "code",
   "execution_count": 38,
   "metadata": {
    "collapsed": true
   },
   "outputs": [],
   "source": [
    "# Adding blank label\n",
    "targets = np.hstack([SPACE_TOKEN if x == '' else list(x) for x in targets])"
   ]
  },
  {
   "cell_type": "code",
   "execution_count": 39,
   "metadata": {
    "collapsed": false
   },
   "outputs": [
    {
     "data": {
      "text/plain": [
       "array(['a', 'q', 'u', 'e', 'l', 'a', '<space>', 'm', 'u', 'l', 'h', 'e',\n",
       "       'r', '<space>', 'e', '<space>', 'p', 'o', 'r', 't', 'u', 'g', 'u',\n",
       "       'e', 's', 'a', '<space>', 'v', 'o', 'u', '<space>', 'c', 'u', 'm',\n",
       "       'p', 'r', 'i', 'r'], \n",
       "      dtype='<U7')"
      ]
     },
     "execution_count": 39,
     "metadata": {},
     "output_type": "execute_result"
    }
   ],
   "source": [
    "targets"
   ]
  },
  {
   "cell_type": "code",
   "execution_count": 40,
   "metadata": {
    "collapsed": true
   },
   "outputs": [],
   "source": [
    "# Transform char into index\n",
    "targets = np.asarray([SPACE_INDEX if x == SPACE_TOKEN else ord(x) - FIRST_INDEX\n",
    "                      for x in targets])"
   ]
  },
  {
   "cell_type": "code",
   "execution_count": 41,
   "metadata": {
    "collapsed": false
   },
   "outputs": [
    {
     "data": {
      "text/plain": [
       "array([ 1, 17, 21,  5, 12,  1,  0, 13, 21, 12,  8,  5, 18,  0,  5,  0, 16,\n",
       "       15, 18, 20, 21,  7, 21,  5, 19,  1,  0, 22, 15, 21,  0,  3, 21, 13,\n",
       "       16, 18,  9, 18])"
      ]
     },
     "execution_count": 41,
     "metadata": {},
     "output_type": "execute_result"
    }
   ],
   "source": [
    "targets"
   ]
  },
  {
   "cell_type": "code",
   "execution_count": 42,
   "metadata": {
    "collapsed": false
   },
   "outputs": [
    {
     "data": {
      "text/plain": [
       "'<space>'"
      ]
     },
     "execution_count": 42,
     "metadata": {},
     "output_type": "execute_result"
    }
   ],
   "source": [
    "SPACE_TOKEN"
   ]
  },
  {
   "cell_type": "code",
   "execution_count": 43,
   "metadata": {
    "collapsed": false
   },
   "outputs": [
    {
     "data": {
      "text/plain": [
       "0"
      ]
     },
     "execution_count": 43,
     "metadata": {},
     "output_type": "execute_result"
    }
   ],
   "source": [
    "SPACE_INDEX"
   ]
  },
  {
   "cell_type": "code",
   "execution_count": 44,
   "metadata": {
    "collapsed": false
   },
   "outputs": [
    {
     "data": {
      "text/plain": [
       "96"
      ]
     },
     "execution_count": 44,
     "metadata": {},
     "output_type": "execute_result"
    }
   ],
   "source": [
    "FIRST_INDEX"
   ]
  },
  {
   "cell_type": "code",
   "execution_count": 45,
   "metadata": {
    "collapsed": true
   },
   "outputs": [],
   "source": [
    "# Creating sparse representation to feed the placeholder\n",
    "train_targets = sparse_tuple_from([targets])"
   ]
  },
  {
   "cell_type": "code",
   "execution_count": 46,
   "metadata": {
    "collapsed": false
   },
   "outputs": [
    {
     "data": {
      "text/plain": [
       "array([[ 0,  0],\n",
       "       [ 0,  1],\n",
       "       [ 0,  2],\n",
       "       [ 0,  3],\n",
       "       [ 0,  4],\n",
       "       [ 0,  5],\n",
       "       [ 0,  6],\n",
       "       [ 0,  7],\n",
       "       [ 0,  8],\n",
       "       [ 0,  9],\n",
       "       [ 0, 10],\n",
       "       [ 0, 11],\n",
       "       [ 0, 12],\n",
       "       [ 0, 13],\n",
       "       [ 0, 14],\n",
       "       [ 0, 15],\n",
       "       [ 0, 16],\n",
       "       [ 0, 17],\n",
       "       [ 0, 18],\n",
       "       [ 0, 19],\n",
       "       [ 0, 20],\n",
       "       [ 0, 21],\n",
       "       [ 0, 22],\n",
       "       [ 0, 23],\n",
       "       [ 0, 24],\n",
       "       [ 0, 25],\n",
       "       [ 0, 26],\n",
       "       [ 0, 27],\n",
       "       [ 0, 28],\n",
       "       [ 0, 29],\n",
       "       [ 0, 30],\n",
       "       [ 0, 31],\n",
       "       [ 0, 32],\n",
       "       [ 0, 33],\n",
       "       [ 0, 34],\n",
       "       [ 0, 35],\n",
       "       [ 0, 36],\n",
       "       [ 0, 37]])"
      ]
     },
     "execution_count": 46,
     "metadata": {},
     "output_type": "execute_result"
    }
   ],
   "source": [
    "train_targets[0]"
   ]
  },
  {
   "cell_type": "code",
   "execution_count": 47,
   "metadata": {
    "collapsed": false
   },
   "outputs": [
    {
     "data": {
      "text/plain": [
       "array([ 1, 17, 21,  5, 12,  1,  0, 13, 21, 12,  8,  5, 18,  0,  5,  0, 16,\n",
       "       15, 18, 20, 21,  7, 21,  5, 19,  1,  0, 22, 15, 21,  0,  3, 21, 13,\n",
       "       16, 18,  9, 18], dtype=int32)"
      ]
     },
     "execution_count": 47,
     "metadata": {},
     "output_type": "execute_result"
    }
   ],
   "source": [
    "train_targets[1]"
   ]
  },
  {
   "cell_type": "code",
   "execution_count": 48,
   "metadata": {
    "collapsed": false
   },
   "outputs": [
    {
     "data": {
      "text/plain": [
       "array([ 1, 38])"
      ]
     },
     "execution_count": 48,
     "metadata": {},
     "output_type": "execute_result"
    }
   ],
   "source": [
    "train_targets[2]"
   ]
  },
  {
   "cell_type": "code",
   "execution_count": 49,
   "metadata": {
    "collapsed": false
   },
   "outputs": [
    {
     "data": {
      "text/plain": [
       "(array([[ 0,  0],\n",
       "        [ 0,  1],\n",
       "        [ 0,  2],\n",
       "        [ 0,  3],\n",
       "        [ 0,  4],\n",
       "        [ 0,  5],\n",
       "        [ 0,  6],\n",
       "        [ 0,  7],\n",
       "        [ 0,  8],\n",
       "        [ 0,  9],\n",
       "        [ 0, 10],\n",
       "        [ 0, 11],\n",
       "        [ 0, 12],\n",
       "        [ 0, 13],\n",
       "        [ 0, 14],\n",
       "        [ 0, 15],\n",
       "        [ 0, 16],\n",
       "        [ 0, 17],\n",
       "        [ 0, 18],\n",
       "        [ 0, 19],\n",
       "        [ 0, 20],\n",
       "        [ 0, 21],\n",
       "        [ 0, 22],\n",
       "        [ 0, 23],\n",
       "        [ 0, 24],\n",
       "        [ 0, 25],\n",
       "        [ 0, 26],\n",
       "        [ 0, 27],\n",
       "        [ 0, 28],\n",
       "        [ 0, 29],\n",
       "        [ 0, 30],\n",
       "        [ 0, 31],\n",
       "        [ 0, 32],\n",
       "        [ 0, 33],\n",
       "        [ 0, 34],\n",
       "        [ 0, 35],\n",
       "        [ 0, 36],\n",
       "        [ 0, 37]]),\n",
       " array([ 1, 17, 21,  5, 12,  1,  0, 13, 21, 12,  8,  5, 18,  0,  5,  0, 16,\n",
       "        15, 18, 20, 21,  7, 21,  5, 19,  1,  0, 22, 15, 21,  0,  3, 21, 13,\n",
       "        16, 18,  9, 18], dtype=int32),\n",
       " array([ 1, 38]))"
      ]
     },
     "execution_count": 49,
     "metadata": {},
     "output_type": "execute_result"
    }
   ],
   "source": [
    "train_targets"
   ]
  },
  {
   "cell_type": "code",
   "execution_count": 50,
   "metadata": {
    "collapsed": true
   },
   "outputs": [],
   "source": [
    "# We don't have a validation dataset :(\n",
    "val_inputs, val_targets, val_seq_len = train_inputs, train_targets, train_seq_len"
   ]
  },
  {
   "cell_type": "code",
   "execution_count": 51,
   "metadata": {
    "collapsed": false
   },
   "outputs": [
    {
     "data": {
      "text/plain": [
       "(1, 461, 13)"
      ]
     },
     "execution_count": 51,
     "metadata": {},
     "output_type": "execute_result"
    }
   ],
   "source": [
    "val_inputs.shape"
   ]
  },
  {
   "cell_type": "code",
   "execution_count": 52,
   "metadata": {
    "collapsed": false
   },
   "outputs": [
    {
     "data": {
      "text/plain": [
       "[461]"
      ]
     },
     "execution_count": 52,
     "metadata": {},
     "output_type": "execute_result"
    }
   ],
   "source": [
    "train_seq_len"
   ]
  },
  {
   "cell_type": "code",
   "execution_count": 53,
   "metadata": {
    "collapsed": false
   },
   "outputs": [
    {
     "data": {
      "text/plain": [
       "array([[[ 0.80657345, -1.2255854 , -0.62792688, ...,  1.01194801,\n",
       "          0.40937415,  0.09595081],\n",
       "        [ 0.80454116, -1.0807843 , -0.59110166, ...,  0.73263859,\n",
       "          0.28356952, -0.37603989],\n",
       "        [ 0.79554133, -1.10509516, -0.38795784, ...,  0.76747992,\n",
       "         -0.2872105 , -0.73253832],\n",
       "        ..., \n",
       "        [ 0.79757638, -1.3792567 , -0.47295676, ..., -0.13500352,\n",
       "          0.49496459,  0.38391188],\n",
       "        [ 0.79131382, -1.36443116, -0.84633931, ...,  0.48301921,\n",
       "          0.16998897,  0.09802156],\n",
       "        [ 0.81028468, -1.31267318, -0.96107263, ...,  0.70003148,\n",
       "          0.20558281,  0.15046007]]])"
      ]
     },
     "execution_count": 53,
     "metadata": {},
     "output_type": "execute_result"
    }
   ],
   "source": [
    "val_inputs"
   ]
  },
  {
   "cell_type": "code",
   "execution_count": 54,
   "metadata": {
    "collapsed": false
   },
   "outputs": [
    {
     "data": {
      "text/plain": [
       "(array([[ 0,  0],\n",
       "        [ 0,  1],\n",
       "        [ 0,  2],\n",
       "        [ 0,  3],\n",
       "        [ 0,  4],\n",
       "        [ 0,  5],\n",
       "        [ 0,  6],\n",
       "        [ 0,  7],\n",
       "        [ 0,  8],\n",
       "        [ 0,  9],\n",
       "        [ 0, 10],\n",
       "        [ 0, 11],\n",
       "        [ 0, 12],\n",
       "        [ 0, 13],\n",
       "        [ 0, 14],\n",
       "        [ 0, 15],\n",
       "        [ 0, 16],\n",
       "        [ 0, 17],\n",
       "        [ 0, 18],\n",
       "        [ 0, 19],\n",
       "        [ 0, 20],\n",
       "        [ 0, 21],\n",
       "        [ 0, 22],\n",
       "        [ 0, 23],\n",
       "        [ 0, 24],\n",
       "        [ 0, 25],\n",
       "        [ 0, 26],\n",
       "        [ 0, 27],\n",
       "        [ 0, 28],\n",
       "        [ 0, 29],\n",
       "        [ 0, 30],\n",
       "        [ 0, 31],\n",
       "        [ 0, 32],\n",
       "        [ 0, 33],\n",
       "        [ 0, 34],\n",
       "        [ 0, 35],\n",
       "        [ 0, 36],\n",
       "        [ 0, 37]]),\n",
       " array([ 1, 17, 21,  5, 12,  1,  0, 13, 21, 12,  8,  5, 18,  0,  5,  0, 16,\n",
       "        15, 18, 20, 21,  7, 21,  5, 19,  1,  0, 22, 15, 21,  0,  3, 21, 13,\n",
       "        16, 18,  9, 18], dtype=int32),\n",
       " array([ 1, 38]))"
      ]
     },
     "execution_count": 54,
     "metadata": {},
     "output_type": "execute_result"
    }
   ],
   "source": [
    "val_targets"
   ]
  },
  {
   "cell_type": "code",
   "execution_count": 55,
   "metadata": {
    "collapsed": false
   },
   "outputs": [
    {
     "data": {
      "text/plain": [
       "[461]"
      ]
     },
     "execution_count": 55,
     "metadata": {},
     "output_type": "execute_result"
    }
   ],
   "source": [
    "val_seq_len"
   ]
  },
  {
   "cell_type": "code",
   "execution_count": 56,
   "metadata": {
    "collapsed": true
   },
   "outputs": [],
   "source": [
    "# THE MAIN CODE!\n",
    "\n",
    "graph = tf.Graph()"
   ]
  },
  {
   "cell_type": "code",
   "execution_count": 57,
   "metadata": {
    "collapsed": false
   },
   "outputs": [],
   "source": [
    "# THE MAIN CODE!\n",
    "\n",
    "graph = tf.Graph()\n",
    "with graph.as_default():\n",
    "    # e.g: log filter bank or MFCC features\n",
    "    # Has size [batch_size, max_stepsize, num_features], but the\n",
    "    # batch_size and max_stepsize can vary along each step\n",
    "    inputs = tf.placeholder(tf.float32, [None, None, num_features])\n",
    "\n",
    "    # Here we use sparse_placeholder that will generate a\n",
    "    # SparseTensor required by ctc_loss op.\n",
    "    targets = tf.sparse_placeholder(tf.int32)\n",
    "\n",
    "    # 1d array of size [batch_size]\n",
    "    seq_len = tf.placeholder(tf.int32, [None])\n",
    "\n",
    "    # Defining the cell\n",
    "    # Can be:\n",
    "    #   tf.nn.rnn_cell.RNNCell\n",
    "    #   tf.nn.rnn_cell.GRUCell\n",
    "    cell = tf.nn.rnn_cell.LSTMCell(num_hidden, state_is_tuple=True)\n",
    "\n",
    "    # Stacking rnn cells\n",
    "    stack = tf.nn.rnn_cell.MultiRNNCell([cell] * num_layers,\n",
    "                                        state_is_tuple=True)\n",
    "\n",
    "    # The second output is the last state and we will no use that\n",
    "    outputs, _ = tf.nn.dynamic_rnn(stack, inputs, seq_len, dtype=tf.float32)\n",
    "\n",
    "    shape = tf.shape(inputs)\n",
    "    batch_s, max_timesteps = shape[0], shape[1]\n",
    "\n",
    "    # Reshaping to apply the same weights over the timesteps\n",
    "    outputs = tf.reshape(outputs, [-1, num_hidden])\n",
    "\n",
    "    # Truncated normal with mean 0 and stdev=0.1\n",
    "    # Tip: Try another initialization\n",
    "    # see https://www.tensorflow.org/versions/r0.9/api_docs/python/contrib.layers.html#initializers\n",
    "    W = tf.Variable(tf.truncated_normal([num_hidden,\n",
    "                                         num_classes],\n",
    "                                        stddev=0.1))\n",
    "    # Zero initialization\n",
    "    # Tip: Is tf.zeros_initializer the same?\n",
    "    b = tf.Variable(tf.constant(0., shape=[num_classes]))\n",
    "\n",
    "    # Doing the affine projection\n",
    "    logits = tf.matmul(outputs, W) + b\n",
    "\n",
    "    # Reshaping back to the original shape\n",
    "    logits = tf.reshape(logits, [batch_s, -1, num_classes])\n",
    "\n",
    "    # Time major\n",
    "    logits = tf.transpose(logits, (1, 0, 2))\n",
    "\n",
    "    loss = ctc_ops.ctc_loss(logits, targets, seq_len)\n",
    "    cost = tf.reduce_mean(loss)\n",
    "\n",
    "    optimizer = tf.train.MomentumOptimizer(initial_learning_rate,\n",
    "                                           0.9).minimize(cost)\n",
    "\n",
    "    # Option 2: tf.contrib.ctc.ctc_beam_search_decoder\n",
    "    # (it's slower but you'll get better results)\n",
    "    decoded, log_prob = ctc_ops.ctc_greedy_decoder(logits, seq_len)\n",
    "\n",
    "    # Inaccuracy: label error rate\n",
    "    ler = tf.reduce_mean(tf.edit_distance(tf.cast(decoded[0], tf.int32),\n",
    "                                          targets))"
   ]
  },
  {
   "cell_type": "code",
   "execution_count": 58,
   "metadata": {
    "collapsed": false
   },
   "outputs": [
    {
     "data": {
      "text/plain": [
       "<tf.Tensor 'Placeholder:0' shape=(?, ?, 13) dtype=float32>"
      ]
     },
     "execution_count": 58,
     "metadata": {},
     "output_type": "execute_result"
    }
   ],
   "source": [
    "inputs"
   ]
  },
  {
   "cell_type": "code",
   "execution_count": 59,
   "metadata": {
    "collapsed": false
   },
   "outputs": [
    {
     "data": {
      "text/plain": [
       "<tensorflow.python.framework.sparse_tensor.SparseTensor at 0x7f4b90358358>"
      ]
     },
     "execution_count": 59,
     "metadata": {},
     "output_type": "execute_result"
    }
   ],
   "source": [
    "targets"
   ]
  },
  {
   "cell_type": "code",
   "execution_count": 60,
   "metadata": {
    "collapsed": false
   },
   "outputs": [
    {
     "data": {
      "text/plain": [
       "'F'"
      ]
     },
     "execution_count": 60,
     "metadata": {},
     "output_type": "execute_result"
    }
   ],
   "source": [
    "chr(70)"
   ]
  },
  {
   "cell_type": "code",
   "execution_count": 61,
   "metadata": {
    "collapsed": false
   },
   "outputs": [
    {
     "name": "stdout",
     "output_type": "stream",
     "text": [
      "WARNING:tensorflow:From <ipython-input-61-79936866b681>:3 in <module>.: initialize_all_variables (from tensorflow.python.ops.variables) is deprecated and will be removed after 2017-03-02.\n",
      "Instructions for updating:\n",
      "Use `tf.global_variables_initializer` instead.\n",
      "Epoch 1/50, train_cost = 1309.874, train_ler = 0.895, val_cost = 435.224, val_ler = 0.895, time = 0.866\n",
      "Epoch 2/50, train_cost = 435.224, train_ler = 1.000, val_cost = 689.978, val_ler = 1.000, time = 0.326\n",
      "Epoch 3/50, train_cost = 689.978, train_ler = 0.895, val_cost = 300.123, val_ler = 0.895, time = 0.343\n",
      "Epoch 4/50, train_cost = 300.123, train_ler = 0.895, val_cost = 196.641, val_ler = 0.895, time = 0.351\n",
      "Epoch 5/50, train_cost = 196.641, train_ler = 0.842, val_cost = 170.139, val_ler = 0.842, time = 0.359\n",
      "Epoch 6/50, train_cost = 170.139, train_ler = 0.895, val_cost = 150.922, val_ler = 0.895, time = 0.398\n",
      "Epoch 7/50, train_cost = 150.922, train_ler = 0.895, val_cost = 145.539, val_ler = 0.895, time = 0.452\n",
      "Epoch 8/50, train_cost = 145.539, train_ler = 0.895, val_cost = 132.099, val_ler = 0.895, time = 0.378\n",
      "Epoch 9/50, train_cost = 132.099, train_ler = 0.868, val_cost = 127.402, val_ler = 0.868, time = 0.367\n",
      "Epoch 10/50, train_cost = 127.402, train_ler = 0.816, val_cost = 122.838, val_ler = 0.816, time = 0.364\n",
      "Epoch 11/50, train_cost = 122.838, train_ler = 0.842, val_cost = 125.318, val_ler = 0.842, time = 0.361\n",
      "Epoch 12/50, train_cost = 125.318, train_ler = 0.789, val_cost = 119.815, val_ler = 0.789, time = 0.364\n",
      "Epoch 13/50, train_cost = 119.815, train_ler = 0.868, val_cost = 106.579, val_ler = 0.868, time = 0.362\n",
      "Epoch 14/50, train_cost = 106.579, train_ler = 0.842, val_cost = 112.136, val_ler = 0.842, time = 0.358\n",
      "Epoch 15/50, train_cost = 112.136, train_ler = 0.868, val_cost = 97.154, val_ler = 0.868, time = 0.362\n",
      "Epoch 16/50, train_cost = 97.154, train_ler = 0.816, val_cost = 95.154, val_ler = 0.816, time = 0.367\n",
      "Epoch 17/50, train_cost = 95.154, train_ler = 0.763, val_cost = 94.698, val_ler = 0.763, time = 0.358\n",
      "Epoch 18/50, train_cost = 94.698, train_ler = 0.763, val_cost = 94.690, val_ler = 0.763, time = 0.370\n",
      "Epoch 19/50, train_cost = 94.690, train_ler = 0.789, val_cost = 94.108, val_ler = 0.789, time = 0.397\n",
      "Epoch 20/50, train_cost = 94.108, train_ler = 0.816, val_cost = 91.946, val_ler = 0.816, time = 0.358\n",
      "Epoch 21/50, train_cost = 91.946, train_ler = 0.763, val_cost = 87.823, val_ler = 0.763, time = 0.362\n",
      "Epoch 22/50, train_cost = 87.823, train_ler = 0.711, val_cost = 84.105, val_ler = 0.711, time = 0.416\n",
      "Epoch 23/50, train_cost = 84.105, train_ler = 0.684, val_cost = 82.516, val_ler = 0.684, time = 0.377\n",
      "Epoch 24/50, train_cost = 82.516, train_ler = 0.737, val_cost = 81.049, val_ler = 0.737, time = 0.358\n",
      "Epoch 25/50, train_cost = 81.049, train_ler = 0.737, val_cost = 78.876, val_ler = 0.737, time = 0.373\n",
      "Epoch 26/50, train_cost = 78.876, train_ler = 0.737, val_cost = 77.697, val_ler = 0.737, time = 0.371\n",
      "Epoch 27/50, train_cost = 77.697, train_ler = 0.737, val_cost = 76.302, val_ler = 0.737, time = 0.371\n",
      "Epoch 28/50, train_cost = 76.302, train_ler = 0.711, val_cost = 73.783, val_ler = 0.711, time = 0.433\n",
      "Epoch 29/50, train_cost = 73.783, train_ler = 0.632, val_cost = 72.432, val_ler = 0.632, time = 0.371\n",
      "Epoch 30/50, train_cost = 72.432, train_ler = 0.632, val_cost = 70.245, val_ler = 0.632, time = 0.361\n",
      "Epoch 31/50, train_cost = 70.245, train_ler = 0.553, val_cost = 68.124, val_ler = 0.553, time = 0.365\n",
      "Epoch 32/50, train_cost = 68.124, train_ler = 0.579, val_cost = 68.736, val_ler = 0.579, time = 0.372\n",
      "Epoch 33/50, train_cost = 68.736, train_ler = 0.605, val_cost = 65.820, val_ler = 0.605, time = 0.377\n",
      "Epoch 34/50, train_cost = 65.820, train_ler = 0.605, val_cost = 65.606, val_ler = 0.605, time = 0.366\n",
      "Epoch 35/50, train_cost = 65.606, train_ler = 0.605, val_cost = 64.188, val_ler = 0.605, time = 0.364\n",
      "Epoch 36/50, train_cost = 64.188, train_ler = 0.553, val_cost = 62.410, val_ler = 0.553, time = 0.358\n",
      "Epoch 37/50, train_cost = 62.410, train_ler = 0.605, val_cost = 63.868, val_ler = 0.605, time = 0.398\n",
      "Epoch 38/50, train_cost = 63.868, train_ler = 0.658, val_cost = 61.553, val_ler = 0.658, time = 0.376\n",
      "Epoch 39/50, train_cost = 61.553, train_ler = 0.579, val_cost = 61.063, val_ler = 0.579, time = 0.638\n",
      "Epoch 40/50, train_cost = 61.063, train_ler = 0.579, val_cost = 60.314, val_ler = 0.579, time = 0.385\n",
      "Epoch 41/50, train_cost = 60.314, train_ler = 0.605, val_cost = 58.691, val_ler = 0.605, time = 0.373\n",
      "Epoch 42/50, train_cost = 58.691, train_ler = 0.605, val_cost = 57.503, val_ler = 0.605, time = 0.371\n",
      "Epoch 43/50, train_cost = 57.503, train_ler = 0.605, val_cost = 56.648, val_ler = 0.605, time = 0.382\n",
      "Epoch 44/50, train_cost = 56.648, train_ler = 0.605, val_cost = 54.855, val_ler = 0.605, time = 0.368\n",
      "Epoch 45/50, train_cost = 54.855, train_ler = 0.605, val_cost = 53.490, val_ler = 0.605, time = 0.377\n",
      "Epoch 46/50, train_cost = 53.490, train_ler = 0.526, val_cost = 52.814, val_ler = 0.526, time = 0.372\n",
      "Epoch 47/50, train_cost = 52.814, train_ler = 0.605, val_cost = 51.597, val_ler = 0.605, time = 0.369\n",
      "Epoch 48/50, train_cost = 51.597, train_ler = 0.605, val_cost = 50.668, val_ler = 0.605, time = 0.376\n",
      "Epoch 49/50, train_cost = 50.668, train_ler = 0.553, val_cost = 50.039, val_ler = 0.553, time = 0.379\n",
      "Epoch 50/50, train_cost = 50.039, train_ler = 0.553, val_cost = 49.164, val_ler = 0.553, time = 0.391\n",
      "Original:\n",
      "aquela mulher e portuguesa vou cumprir\n",
      "Decoded:\n",
      "alel uler ruaea p pr\n"
     ]
    }
   ],
   "source": [
    "with tf.Session(graph=graph) as session:\n",
    "    # Initializate the weights and biases\n",
    "    tf.initialize_all_variables().run()\n",
    "\n",
    "\n",
    "    for curr_epoch in range(num_epochs):\n",
    "        train_cost = train_ler = 0\n",
    "        start = time.time()\n",
    "\n",
    "        for batch in range(num_batches_per_epoch):\n",
    "\n",
    "            feed = {inputs: train_inputs,\n",
    "                    targets: train_targets,\n",
    "                    seq_len: train_seq_len}\n",
    "\n",
    "            batch_cost, _ = session.run([cost, optimizer], feed)\n",
    "            train_cost += batch_cost*batch_size\n",
    "            train_ler += session.run(ler, feed_dict=feed)*batch_size\n",
    "\n",
    "        train_cost /= num_examples\n",
    "        train_ler /= num_examples\n",
    "\n",
    "        val_feed = {inputs: val_inputs,\n",
    "                    targets: val_targets,\n",
    "                    seq_len: val_seq_len}\n",
    "\n",
    "        val_cost, val_ler = session.run([cost, ler], feed_dict=val_feed)\n",
    "\n",
    "        log = \"Epoch {}/{}, train_cost = {:.3f}, train_ler = {:.3f}, val_cost = {:.3f}, val_ler = {:.3f}, time = {:.3f}\"\n",
    "        print(log.format(curr_epoch+1, num_epochs, train_cost, train_ler,\n",
    "                         val_cost, val_ler, time.time() - start))\n",
    "    # Decoding\n",
    "    d = session.run(decoded[0], feed_dict=feed)\n",
    "    str_decoded = ''.join([chr(x) for x in np.asarray(d[1]) + FIRST_INDEX])\n",
    "    # Replacing blank label to none\n",
    "    str_decoded = str_decoded.replace(chr(ord('z') + 1), '')\n",
    "    # Replacing space label to space\n",
    "    str_decoded = str_decoded.replace(chr(ord('a') - 1), ' ')\n",
    "\n",
    "    print('Original:\\n%s' % original)\n",
    "    print('Decoded:\\n%s' % str_decoded)"
   ]
  },
  {
   "cell_type": "code",
   "execution_count": null,
   "metadata": {
    "collapsed": true
   },
   "outputs": [],
   "source": []
  }
 ],
 "metadata": {
  "anaconda-cloud": {},
  "kernelspec": {
   "display_name": "Python [default]",
   "language": "python",
   "name": "python3"
  },
  "language_info": {
   "codemirror_mode": {
    "name": "ipython",
    "version": 3
   },
   "file_extension": ".py",
   "mimetype": "text/x-python",
   "name": "python",
   "nbconvert_exporter": "python",
   "pygments_lexer": "ipython3",
   "version": "3.5.2"
  }
 },
 "nbformat": 4,
 "nbformat_minor": 1
}
