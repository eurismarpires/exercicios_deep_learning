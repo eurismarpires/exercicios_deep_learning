{
 "cells": [
  {
   "cell_type": "code",
   "execution_count": 1,
   "metadata": {
    "collapsed": false,
    "deletable": true,
    "editable": true
   },
   "outputs": [],
   "source": [
    "#!/usr/bin/env python\n",
    "#!/usr/bin/env PYTHONIOENCODING=\"utf-8\" python\n",
    "import tflearn\n",
    "import pyaudio\n",
    "import speech_data\n",
    "import numpy"
   ]
  },
  {
   "cell_type": "code",
   "execution_count": 2,
   "metadata": {
    "collapsed": false,
    "deletable": true,
    "editable": true
   },
   "outputs": [
    {
     "name": "stdout",
     "output_type": "stream",
     "text": [
      "Looking for data spoken_numbers_pcm.tar in data/\n",
      "Extracting data/spoken_numbers_pcm.tar to data/\n",
      "Data ready!\n",
      "loaded batch of 2402 files\n",
      "loaded batch of 2402 files\n",
      "loaded batch of 2402 files\n",
      "loaded batch of 2402 files\n",
      "loaded batch of 2402 files\n"
     ]
    }
   ],
   "source": [
    "# Simple spoken digit recognition demo, with 98% accuracy in under a minute\n",
    "\n",
    "# Training Step: 544  | total loss: 0.15866\n",
    "# | Adam | epoch: 034 | loss: 0.15866 - acc: 0.9818 -- iter: 0000/1000\n",
    "\n",
    "batch=speech_data.wave_batch_generator(10000,target=speech_data.Target.digits)\n",
    "X,Y=next(batch)\n",
    "#batch2 = word_batch = speech_data.mfcc_batch_generator(64)"
   ]
  },
  {
   "cell_type": "code",
   "execution_count": 3,
   "metadata": {
    "collapsed": true,
    "deletable": true,
    "editable": true
   },
   "outputs": [],
   "source": [
    "number_classes=10 # Digits"
   ]
  },
  {
   "cell_type": "code",
   "execution_count": 4,
   "metadata": {
    "collapsed": true,
    "deletable": true,
    "editable": true
   },
   "outputs": [],
   "source": [
    "# Classification\n",
    "tflearn.init_graph(num_cores=8, gpu_memory_fraction=0.5)\n",
    "\n",
    "net = tflearn.input_data(shape=[None, 8192])\n",
    "net = tflearn.fully_connected(net, 64)\n",
    "net = tflearn.dropout(net, 0.5)\n",
    "net = tflearn.fully_connected(net, number_classes, activation='softmax')\n",
    "net = tflearn.regression(net, optimizer='adam', loss='categorical_crossentropy')\n",
    "\n",
    "model = tflearn.DNN(net)"
   ]
  },
  {
   "cell_type": "code",
   "execution_count": 5,
   "metadata": {
    "collapsed": false,
    "deletable": true,
    "editable": true
   },
   "outputs": [
    {
     "name": "stdout",
     "output_type": "stream",
     "text": [
      "Training Step: 1569  | total loss: \u001b[1m\u001b[32m0.15138\u001b[0m\u001b[0m | time: 1.440s\n",
      "| Adam | epoch: 010 | loss: 0.15138 - acc: 0.9675 -- iter: 09984/10000\n",
      "Training Step: 1570  | total loss: \u001b[1m\u001b[32m0.13940\u001b[0m\u001b[0m | time: 1.451s\n",
      "| Adam | epoch: 010 | loss: 0.13940 - acc: 0.9708 -- iter: 10000/10000\n",
      "--\n"
     ]
    }
   ],
   "source": [
    "model.fit(X, Y,n_epoch=10,show_metric=True,snapshot_step=100)\n",
    "# Overfitting okay for now"
   ]
  },
  {
   "cell_type": "code",
   "execution_count": 6,
   "metadata": {
    "collapsed": false,
    "deletable": true,
    "editable": true
   },
   "outputs": [
    {
     "name": "stdout",
     "output_type": "stream",
     "text": [
      "predicted digit for 9_Vicki_260.wav : result = 9 \n"
     ]
    }
   ],
   "source": [
    "demo_file = \"9_Vicki_260.wav\"\n",
    "demo=speech_data.load_wav_file(speech_data.path + demo_file)\n",
    "result=model.predict([demo])\n",
    "result=numpy.argmax(result)\n",
    "print(\"predicted digit for %s : result = %d \"%(demo_file,result))"
   ]
  },
  {
   "cell_type": "code",
   "execution_count": null,
   "metadata": {
    "collapsed": true,
    "deletable": true,
    "editable": true
   },
   "outputs": [],
   "source": []
  }
 ],
 "metadata": {
  "kernelspec": {
   "display_name": "Python 2",
   "language": "python",
   "name": "python2"
  },
  "language_info": {
   "codemirror_mode": {
    "name": "ipython",
    "version": 2
   },
   "file_extension": ".py",
   "mimetype": "text/x-python",
   "name": "python",
   "nbconvert_exporter": "python",
   "pygments_lexer": "ipython2",
   "version": "2.7.12"
  }
 },
 "nbformat": 4,
 "nbformat_minor": 2
}
