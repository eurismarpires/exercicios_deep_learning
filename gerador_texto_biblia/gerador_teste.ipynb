{
 "cells": [
  {
   "cell_type": "code",
   "execution_count": 2,
   "metadata": {
    "collapsed": false
   },
   "outputs": [
    {
     "name": "stderr",
     "output_type": "stream",
     "text": [
      "Using TensorFlow backend.\n"
     ]
    }
   ],
   "source": [
    "# coding: utf-8\n",
    "\n",
    "from __future__ import print_function\n",
    "from keras.models import Sequential\n",
    "from keras.layers import Dense, Activation\n",
    "from keras.layers import LSTM\n",
    "from keras.optimizers import RMSprop\n",
    "from keras.utils.data_utils import get_file\n",
    "import numpy as np\n",
    "import random\n",
    "import sys\n",
    "from keras.callbacks import ModelCheckpoint\n",
    "#path = get_file('salmos.txt', origin='http://www.manancialvox.com/fontedepaz/19-SALMOS.txt')\n",
    "#path = get_file('ester.txt',origin=\"http://www.manancialvox.com/fontedepaz/17-ESTER.txt\")\n",
    "#path = get_file('biblia.txt',origin=\"https://raw.githubusercontent.com/eurismarpires/exercicios_deep_learning/master/B%C3%ADblia%20Sagrada.txt\")\n",
    "path = get_file('biblia_sagrada.txt',origin=\"http://drupalbible.org/sites/drupalbible.org/files/Biblia%20ACF%20(Almeida%20Corrigida%20Fiel)%20-%20palavras%20de%20Jesus%20em%20vermelho.txt\")\n",
    "#path = get_file('biblia.txt','biblia.txt')\n",
    "text = open(path).read().lower()"
   ]
  },
  {
   "cell_type": "code",
   "execution_count": 3,
   "metadata": {
    "collapsed": true
   },
   "outputs": [],
   "source": [
    "# In[13]:\n",
    "\n",
    "#text = text[2450:150000] "
   ]
  },
  {
   "cell_type": "code",
   "execution_count": 4,
   "metadata": {
    "collapsed": false
   },
   "outputs": [
    {
     "name": "stdout",
     "output_type": "stream",
     "text": [
      "corpus length: 4260189\n",
      "total chars: 72\n"
     ]
    }
   ],
   "source": [
    "print('corpus length:', len(text))\n",
    "\n",
    "chars = sorted(list(set(text)))\n",
    "print('total chars:', len(chars))\n",
    "char_indices = dict((c, i) for i, c in enumerate(chars))\n",
    "indices_char = dict((i, c) for i, c in enumerate(chars))"
   ]
  },
  {
   "cell_type": "code",
   "execution_count": 5,
   "metadata": {
    "collapsed": false
   },
   "outputs": [
    {
     "name": "stdout",
     "output_type": "stream",
     "text": [
      "nb sequences: 1420050\n"
     ]
    }
   ],
   "source": [
    "# cut the text in semi-redundant sequences of maxlen characters\n",
    "maxlen = 40\n",
    "step = 3\n",
    "sentences = []\n",
    "next_chars = []\n",
    "for i in range(0, len(text) - maxlen, step):\n",
    "    sentences.append(text[i: i + maxlen])\n",
    "    next_chars.append(text[i + maxlen])\n",
    "print('nb sequences:', len(sentences))"
   ]
  },
  {
   "cell_type": "code",
   "execution_count": 6,
   "metadata": {
    "collapsed": false
   },
   "outputs": [
    {
     "name": "stdout",
     "output_type": "stream",
     "text": [
      "Vectorization...\n"
     ]
    }
   ],
   "source": [
    "print('Vectorization...')\n",
    "X = np.zeros((len(sentences), maxlen, len(chars)), dtype=np.bool)\n",
    "y = np.zeros((len(sentences), len(chars)), dtype=np.bool)\n",
    "for i, sentence in enumerate(sentences):\n",
    "    for t, char in enumerate(sentence):\n",
    "        X[i, t, char_indices[char]] = 1\n",
    "    y[i, char_indices[next_chars[i]]] = 1"
   ]
  },
  {
   "cell_type": "code",
   "execution_count": 7,
   "metadata": {
    "collapsed": false
   },
   "outputs": [
    {
     "name": "stdout",
     "output_type": "stream",
     "text": [
      "Build model...\n"
     ]
    }
   ],
   "source": [
    "# build the model: a single LSTM\n",
    "print('Build model...')\n",
    "model = Sequential()\n",
    "model.add(LSTM(128, input_shape=(maxlen, len(chars))))\n",
    "model.add(Dense(len(chars)))\n",
    "model.add(Activation('softmax'))\n",
    "\n",
    "optimizer = RMSprop(lr=0.01)\n",
    "filename=\"weights-biblia-00-1.3100.hdf5\"\n",
    "model.load_weights(filename)\n",
    "model.compile(loss='categorical_crossentropy', optimizer=optimizer)"
   ]
  },
  {
   "cell_type": "code",
   "execution_count": 8,
   "metadata": {
    "collapsed": true
   },
   "outputs": [],
   "source": [
    "def sample(preds, temperature=1.0):\n",
    "    # helper function to sample an index from a probability array\n",
    "    preds = np.asarray(preds).astype('float64')\n",
    "    preds = np.log(preds) / temperature\n",
    "    exp_preds = np.exp(preds)\n",
    "    preds = exp_preds / np.sum(exp_preds)\n",
    "    probas = np.random.multinomial(1, preds, 1)\n",
    "    return np.argmax(probas)"
   ]
  },
  {
   "cell_type": "code",
   "execution_count": 10,
   "metadata": {
    "collapsed": false
   },
   "outputs": [
    {
     "name": "stdout",
     "output_type": "stream",
     "text": [
      "\n",
      "----- diversity: 0.2\n",
      "----- Generating with seed: \"a do teu louvor e da tua glória todo o \"\n",
      "a do teu louvor e da tua glória todo o seu cora����o, e a sua con"
     ]
    },
    {
     "name": "stderr",
     "output_type": "stream",
     "text": [
      "/usr/local/lib/python2.7/dist-packages/ipykernel/__main__.py:4: RuntimeWarning: divide by zero encountered in log\n"
     ]
    },
    {
     "name": "stdout",
     "output_type": "stream",
     "text": [
      "tende de mim se a sua casa, e a terra de seu pai, e disse o senhor, e este dia de jerusal��m e a tua casa, e disse a sua contende de seus filhos, e a consolar�� a minha contender da minha casa; e de teu pai e a sua casa, e o senhor te disse a terra de mim. \n",
      "1cr 1:13 e eis que est��o contra o senhor, e n��o se a contende de mim, e este dia de teu pai, e a sua m��o, e diss\n",
      "\n",
      "----- diversity: 0.5\n",
      "----- Generating with seed: \"a do teu louvor e da tua glória todo o \"\n",
      "a do teu louvor e da tua glória todo o meu carto de homem, e a minha mulher pelo nosso deus de alimento; e esta, como segundo o senhor de outro de deus de deus, e disse ser�� o povo, e o seu cora����o de que enviaram-se a espada no seu dia de teu pai. \n",
      "jo 17:31 e a tua congrega����o de seus filhos de meu cora����o, e a mim eu a contender de seu cora����o, e conte diante do senhor, e se algu��m de achado de davi das ablizas, e para que\n",
      "\n",
      "----- diversity: 1.0\n",
      "----- Generating with seed: \"a do teu louvor e da tua glória todo o \"\n",
      "a do teu louvor e da tua glória todo o cardo; em iniq��itous de vista, e tu em eg��rio de semebtipar; \n",
      "gn 9:24 e o sete de tu, e quando hornecemente, e a v��s o chices neste meio do povo, e o que a camelha sefadade de deus, e enhumi-tes; e quando h�� em estif��cia, dia mulher o meu homem, as japafede com a ele cada um contra este quer que te d�� cristo alguma. \n",
      "os 12:10 e disse os filhos do que te se assuns diante mais como se abriu \n",
      "\n",
      "----- diversity: 1.2\n",
      "----- Generating with seed: \"a do teu louvor e da tua glória todo o \"\n",
      "a do teu louvor e da tua glória todo o mesmo dizies��o enfravid e erama, e buscamessem dele. \n",
      "1cr 3:9 por todo chafa, na dois que e juriadadas como unhas aos dizbas, na tamehn��a, que os comp��lias, foi ouvido as palavras, at�� que foltes jora, os c��us delesvei, imou em ter��a, quando escote aos morsores; e isu��ra a s��rio, e fom, e axja��a no senhor. que subindo ue diante da porta lemparita de testesbedro��beia. \n",
      "ez 31:6 ent��o a \n"
     ]
    }
   ],
   "source": [
    "start_index = random.randint(0, len(text) - maxlen - 1)\n",
    "\n",
    "for diversity in [0.2, 0.5, 1.0, 1.2]:\n",
    "    print()\n",
    "    print('----- diversity:', diversity)\n",
    "\n",
    "    generated = ''\n",
    "    sentence = text[start_index: start_index + maxlen]\n",
    "    generated += sentence\n",
    "    print('----- Generating with seed: \"' + sentence + '\"')\n",
    "    sys.stdout.write(generated)\n",
    "\n",
    "    for i in range(400):\n",
    "        x = np.zeros((1, maxlen, len(chars)))\n",
    "        for t, char in enumerate(sentence):\n",
    "            x[0, t, char_indices[char]] = 1.\n",
    "\n",
    "        preds = model.predict(x, verbose=0)[0]\n",
    "        next_index = sample(preds, diversity)\n",
    "        next_char = indices_char[next_index]\n",
    "\n",
    "        generated += next_char\n",
    "        sentence = sentence[1:] + next_char\n",
    "\n",
    "        sys.stdout.write(next_char)\n",
    "        sys.stdout.flush()\n",
    "    print()"
   ]
  },
  {
   "cell_type": "code",
   "execution_count": null,
   "metadata": {
    "collapsed": true
   },
   "outputs": [],
   "source": []
  }
 ],
 "metadata": {
  "kernelspec": {
   "display_name": "Python 2",
   "language": "python",
   "name": "python2"
  },
  "language_info": {
   "codemirror_mode": {
    "name": "ipython",
    "version": 2
   },
   "file_extension": ".py",
   "mimetype": "text/x-python",
   "name": "python",
   "nbconvert_exporter": "python",
   "pygments_lexer": "ipython2",
   "version": "2.7.12"
  }
 },
 "nbformat": 4,
 "nbformat_minor": 2
}
